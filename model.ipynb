{
  "nbformat": 4,
  "nbformat_minor": 0,
  "metadata": {
    "colab": {
      "name": "model.ipynb",
      "provenance": [],
      "collapsed_sections": [],
      "machine_shape": "hm"
    },
    "kernelspec": {
      "name": "python3",
      "display_name": "Python 3"
    },
    "language_info": {
      "name": "python"
    },
    "accelerator": "GPU"
  },
  "cells": [
    {
      "cell_type": "code",
      "metadata": {
        "id": "DXbGUK7nRGcM"
      },
      "source": [
        "import os\n",
        "import random\n",
        "import keras\n",
        "import numpy as np\n",
        "from numpy.random import seed\n",
        "import tensorflow as tf\n",
        "import matplotlib.pyplot as plt\n",
        "%matplotlib inline"
      ],
      "execution_count": null,
      "outputs": []
    },
    {
      "cell_type": "code",
      "metadata": {
        "id": "2sVbxb3mTX7s"
      },
      "source": [
        "seed(101)\n",
        "tf.random.set_seed(101)"
      ],
      "execution_count": null,
      "outputs": []
    },
    {
      "cell_type": "code",
      "metadata": {
        "id": "pY5XFdWgTduH"
      },
      "source": [
        "from google.colab import drive\n",
        "drive.mount(\"/content/drive\")"
      ],
      "execution_count": null,
      "outputs": []
    },
    {
      "cell_type": "code",
      "metadata": {
        "id": "t2jtA7gOThIh"
      },
      "source": [
        "import zipfile\n",
        "import cv2\n",
        "\n",
        "train_zip = zipfile.ZipFile(\"/content/drive/My Drive/Colab Notebooks/train.zip\", 'r')\n",
        "train_zip.extractall()\n",
        "\n",
        "image_files = os.listdir(\"./train/\")\n",
        "image_files.sort()\n",
        "image_files.sort(key=lambda x:int(x[:-4])) # Sort file paths by name, such that e.g. 0.jpg comes before 1.jpg\n",
        "\n",
        "x_train = []\n",
        "\n",
        "for i in range(len(image_files)):\n",
        "  train_image = cv2.imread(\"./train/\" + image_files[i])\n",
        "  x_train.append(train_image)"
      ],
      "execution_count": null,
      "outputs": []
    },
    {
      "cell_type": "code",
      "metadata": {
        "id": "BpRCNErkTkcR"
      },
      "source": [
        "f = open(\"/content/drive/My Drive/Colab Notebooks/train.txt\", \"r\")\n",
        "content = f.read()\n",
        "lines = content.splitlines()\n",
        "f.close()\n",
        "\n",
        "y_train = []\n",
        "\n",
        "for line in lines:\n",
        "    label = line.split(' ')[1]\n",
        "    y_train.append(int(label))"
      ],
      "execution_count": null,
      "outputs": []
    },
    {
      "cell_type": "code",
      "metadata": {
        "id": "sQ7bnVoFTnIu"
      },
      "source": [
        "def preprocess(image):\n",
        "  image = cv2.resize(image, (100,100)) # Resize to 100x100 pixels\n",
        "  image = image / 255.0 # Normalise data\n",
        "  return image"
      ],
      "execution_count": null,
      "outputs": []
    },
    {
      "cell_type": "code",
      "metadata": {
        "id": "ZHR7Of59Toaz"
      },
      "source": [
        "plt.figure()\n",
        "plt.imshow(x_train[0])\n",
        "plt.figure()\n",
        "plt.imshow(preprocess(x_train[0]))"
      ],
      "execution_count": null,
      "outputs": []
    },
    {
      "cell_type": "code",
      "metadata": {
        "id": "8h1gTiIgTsyn"
      },
      "source": [
        "from tensorflow import keras\n",
        "from tensorflow.keras.preprocessing.image import ImageDataGenerator\n",
        "\n",
        "gen = ImageDataGenerator(rotation_range=10, width_shift_range=0.1, height_shift_range=0.1, shear_range=0.15, zoom_range=0.1, channel_shift_range=10., horizontal_flip=True)"
      ],
      "execution_count": null,
      "outputs": []
    },
    {
      "cell_type": "code",
      "metadata": {
        "id": "_kINKm5wTwNE"
      },
      "source": [
        "def plotAugmented(original, augmented):\n",
        "\n",
        "  plt.figure(figsize = (30,2))\n",
        "  \n",
        "  plt.subplot(1,10,1)\n",
        "  plt.imshow(original)\n",
        "  plt.xticks([])\n",
        "  plt.yticks([])\n",
        "  plt.xlabel(\"Original image\")\n",
        "\n",
        "  for i in range(len(augmented)):\n",
        "    plt.subplot(1,10,i+2)\n",
        "    plt.imshow(augmented[i])\n",
        "    plt.xticks([])\n",
        "    plt.yticks([])\n",
        "    plt.xlabel(\"Augmented image \" + str(i + 1))\n",
        "\n",
        "  plt.show()"
      ],
      "execution_count": null,
      "outputs": []
    },
    {
      "cell_type": "code",
      "metadata": {
        "id": "PqgWFMYrTznt"
      },
      "source": [
        "aug_iter = gen.flow(np.expand_dims(x_train[62],0))\n",
        "aug_images = [next(aug_iter)[0].astype(np.uint8) for i in range(3)]\n",
        "plotAugmented(x_train[62], aug_images)"
      ],
      "execution_count": null,
      "outputs": []
    },
    {
      "cell_type": "code",
      "metadata": {
        "id": "kHM2UetST6-I"
      },
      "source": [
        "augmented_x_train = []\n",
        "\n",
        "for i in range(len(x_train)):\n",
        "  x = 3 # Number of augmented images\n",
        "  aug_iter = gen.flow(np.expand_dims(x_train[i],0))\n",
        "  aug_images = [next(aug_iter)[0].astype(np.uint8) for i in range(x)]\n",
        "\n",
        "  for k in range(x):\n",
        "    augmented_x_train.append(preprocess(aug_images[k]))\n",
        "\n",
        "  for j in range(x):\n",
        "    y_train.append(y_train[i])"
      ],
      "execution_count": null,
      "outputs": []
    },
    {
      "cell_type": "code",
      "metadata": {
        "id": "KamhCZ1kT9op"
      },
      "source": [
        "for i in range(len(x_train)):\n",
        "  x_train[i] = preprocess(x_train[i])\n",
        "\n",
        "x_train.extend(augmented_x_train)"
      ],
      "execution_count": null,
      "outputs": []
    },
    {
      "cell_type": "code",
      "metadata": {
        "id": "gnAQBT-8UNYZ"
      },
      "source": [
        "# Free up RAM - the elements of this array have been added to x_train so it is no longer needed\n",
        "del augmented_x_train"
      ],
      "execution_count": null,
      "outputs": []
    },
    {
      "cell_type": "code",
      "metadata": {
        "id": "KlJw6c5MUN67"
      },
      "source": [
        "x_train = np.array(x_train)\n",
        "y_train = np.array(y_train)\n",
        "print(x_train.shape, y_train.shape)"
      ],
      "execution_count": null,
      "outputs": []
    },
    {
      "cell_type": "code",
      "metadata": {
        "id": "6i6a3DggUSEa"
      },
      "source": [
        "from keras.utils import to_categorical\n",
        "y_train = to_categorical(y_train, 23)\n",
        "y_train = y_train.astype(np.int32)"
      ],
      "execution_count": null,
      "outputs": []
    },
    {
      "cell_type": "code",
      "metadata": {
        "id": "c0gDAmdDUWC7"
      },
      "source": [
        "from keras.models import Sequential\n",
        "from keras.layers import Dense, Conv2D, Flatten, MaxPooling2D, Dropout, BatchNormalization\n",
        "\n",
        "def create_model():\n",
        "    model = Sequential()\n",
        "\n",
        "    model.add(Conv2D(32, kernel_size=3, padding=\"same\", activation=\"relu\", input_shape=(100,100,3)))\n",
        "    model.add(MaxPooling2D(pool_size=2))\n",
        "    model.add(Dropout(0.2))\n",
        "    model.add(BatchNormalization())\n",
        "\n",
        "    model.add(Conv2D(64, kernel_size=3, padding=\"same\", activation=\"relu\"))\n",
        "    model.add(MaxPooling2D(pool_size=2))\n",
        "    model.add(Dropout(0.2))\n",
        "    model.add(BatchNormalization())\n",
        "\n",
        "    model.add(Conv2D(128, kernel_size=3, padding=\"same\", activation=\"relu\"))\n",
        "    model.add(MaxPooling2D(pool_size=2))\n",
        "    model.add(Dropout(0.2))\n",
        "    model.add(BatchNormalization())\n",
        "    \n",
        "    model.add(Conv2D(256, kernel_size=3, padding=\"same\", activation=\"relu\"))\n",
        "    model.add(MaxPooling2D(pool_size=2))\n",
        "    model.add(Dropout(0.2))\n",
        "    model.add(BatchNormalization())\n",
        "\n",
        "    model.add(Conv2D(512, kernel_size=3, padding=\"same\", activation=\"relu\"))\n",
        "    model.add(MaxPooling2D(pool_size=2))\n",
        "    model.add(Dropout(0.2))\n",
        "    model.add(BatchNormalization())\n",
        "\n",
        "    model.add(Flatten())\n",
        "    model.add(Dropout(0.2))\n",
        "\n",
        "    model.add(Dense(1024, activation=\"relu\"))\n",
        "    model.add(Dropout(0.2))\n",
        "    model.add(BatchNormalization())\n",
        "\n",
        "    model.add(Dense(512, activation=\"relu\"))\n",
        "    model.add(Dropout(0.2))\n",
        "    model.add(BatchNormalization())\n",
        "\n",
        "    model.add(Dense(256, activation=\"relu\"))\n",
        "    model.add(Dropout(0.2))\n",
        "    model.add(BatchNormalization())\n",
        "\n",
        "    model.add(Dense(128, activation=\"relu\"))\n",
        "    model.add(Dropout(0.2))\n",
        "    model.add(BatchNormalization())\n",
        "\n",
        "    model.add(Dense(64, activation=\"relu\"))\n",
        "    model.add(Dropout(0.2))\n",
        "    model.add(BatchNormalization())\n",
        "\n",
        "    model.add(Dense(32, activation=\"relu\"))\n",
        "    model.add(Dropout(0.2))\n",
        "    model.add(BatchNormalization())\n",
        "\n",
        "    model.add(Dense(23, activation=\"softmax\"))\n",
        "    \n",
        "    return model"
      ],
      "execution_count": null,
      "outputs": []
    },
    {
      "cell_type": "code",
      "metadata": {
        "id": "7f2sYrdnUXtM"
      },
      "source": [
        "#!pip install keras_sequential_ascii"
      ],
      "execution_count": null,
      "outputs": []
    },
    {
      "cell_type": "code",
      "metadata": {
        "id": "_J4Hjl8wUcNp"
      },
      "source": [
        "#from keras_sequential_ascii import keras2ascii\n",
        "model = create_model()\n",
        "#keras2ascii(model)"
      ],
      "execution_count": null,
      "outputs": []
    },
    {
      "cell_type": "code",
      "metadata": {
        "id": "eLlj7gdGUdR8"
      },
      "source": [
        "model.summary()"
      ],
      "execution_count": null,
      "outputs": []
    },
    {
      "cell_type": "code",
      "metadata": {
        "id": "9nWxrTThUfEq"
      },
      "source": [
        "model.compile(optimizer='adam', loss='categorical_crossentropy', metrics=['accuracy'])\n",
        "history = model.fit(x_train, y_train, validation_split=0.2, epochs=100, batch_size=64)"
      ],
      "execution_count": null,
      "outputs": []
    },
    {
      "cell_type": "code",
      "metadata": {
        "id": "6riKNm09Ugh4"
      },
      "source": [
        "plt.plot(history.history['accuracy'])\n",
        "plt.plot(history.history['val_accuracy'])\n",
        "plt.title('Accuracy')\n",
        "plt.ylabel('Accuracy')\n",
        "plt.xlabel('Epoch')\n",
        "plt.legend(['train', 'validation'], loc='upper right')\n",
        "plt.show()\n",
        "\n",
        "plt.plot(history.history['loss'])\n",
        "plt.plot(history.history['val_loss'])\n",
        "plt.title('Loss')\n",
        "plt.ylabel('Loss')\n",
        "plt.xlabel('Epoch')\n",
        "plt.legend(['train', 'validation'], loc='upper right')\n",
        "plt.show()"
      ],
      "execution_count": null,
      "outputs": []
    },
    {
      "cell_type": "code",
      "metadata": {
        "id": "g06Ubb6dUvsm"
      },
      "source": [
        "# Delete training data to free up RAM\n",
        "del x_train\n",
        "del y_train"
      ],
      "execution_count": null,
      "outputs": []
    },
    {
      "cell_type": "code",
      "metadata": {
        "id": "G9LgeZSSU0dl"
      },
      "source": [
        "test_zip = zipfile.ZipFile(\"/content/drive/My Drive/Colab Notebooks/test.zip\", 'r')\n",
        "test_zip.extractall()\n",
        "\n",
        "image_files = os.listdir(\"./test/\")\n",
        "image_files.sort()\n",
        "image_files.sort(key=lambda x:int(x[:-4])) # Sort file paths by name, such that e.g. 0.jpg comes before 1.jpg\n",
        "\n",
        "x_test = []\n",
        "\n",
        "for i in range(len(image_files)):\n",
        "  test_image = cv2.imread(\"./test/\" + image_files[i])\n",
        "  x_test.append(preprocess(test_image))"
      ],
      "execution_count": null,
      "outputs": []
    },
    {
      "cell_type": "code",
      "metadata": {
        "id": "6qzosuxkU1vZ"
      },
      "source": [
        "plt.imshow(x_test[7504])"
      ],
      "execution_count": null,
      "outputs": []
    },
    {
      "cell_type": "code",
      "metadata": {
        "id": "LqIRJ9vsU3UN"
      },
      "source": [
        "x_test = np.array(x_test)\n",
        "print(x_test.shape)"
      ],
      "execution_count": null,
      "outputs": []
    },
    {
      "cell_type": "code",
      "metadata": {
        "id": "y6J1qzcVU4yZ"
      },
      "source": [
        "y_pred = np.argmax(model.predict(x_test), axis=1)"
      ],
      "execution_count": null,
      "outputs": []
    },
    {
      "cell_type": "code",
      "metadata": {
        "id": "BD0aKX-kU6H9"
      },
      "source": [
        "import pandas as pd\n",
        "\n",
        "pred_results = pd.DataFrame(y_pred, columns=['label'])\n",
        "pred_results.index.name = 'id'\n",
        "pred_results.to_csv('submission.csv')"
      ],
      "execution_count": null,
      "outputs": []
    }
  ]
}